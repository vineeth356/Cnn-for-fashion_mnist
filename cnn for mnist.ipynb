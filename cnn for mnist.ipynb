{
 "cells": [
  {
   "cell_type": "code",
   "execution_count": 29,
   "metadata": {},
   "outputs": [],
   "source": [
    "import tensorflow as tf"
   ]
  },
  {
   "cell_type": "code",
   "execution_count": 30,
   "metadata": {},
   "outputs": [
    {
     "data": {
      "text/plain": [
       "'2.1.0'"
      ]
     },
     "execution_count": 30,
     "metadata": {},
     "output_type": "execute_result"
    }
   ],
   "source": [
    "tf.__version__"
   ]
  },
  {
   "cell_type": "code",
   "execution_count": 31,
   "metadata": {},
   "outputs": [],
   "source": [
    "import numpy as np\n",
    "import matplotlib.pyplot as plt\n",
    "from tensorflow.keras.layers import Input,Conv2D,Dense,Flatten,Dropout\n",
    "from tensorflow.keras.models import Model"
   ]
  },
  {
   "cell_type": "code",
   "execution_count": 32,
   "metadata": {},
   "outputs": [],
   "source": [
    "fashion_mnist = tf.keras.datasets.fashion_mnist"
   ]
  },
  {
   "cell_type": "code",
   "execution_count": 33,
   "metadata": {},
   "outputs": [
    {
     "name": "stdout",
     "output_type": "stream",
     "text": [
      "X_train shape :  (60000, 28, 28)\n"
     ]
    }
   ],
   "source": [
    "(X_train,y_train),(X_test,y_test)=fashion_mnist.load_data()\n",
    "\n",
    "X_train,X_test = X_train/255.0,X_test/255.0\n",
    "\n",
    "print('X_train shape : ',X_train.shape)"
   ]
  },
  {
   "cell_type": "code",
   "execution_count": 34,
   "metadata": {},
   "outputs": [],
   "source": [
    "# the data is only 2d\n",
    "# convolution expects height * width * color"
   ]
  },
  {
   "cell_type": "code",
   "execution_count": 35,
   "metadata": {},
   "outputs": [
    {
     "name": "stdout",
     "output_type": "stream",
     "text": [
      "(60000, 28, 28, 1)\n"
     ]
    }
   ],
   "source": [
    "X_train = np.expand_dims(X_train,-1)\n",
    "X_test = np.expand_dims(X_test,-1)\n",
    "print(X_train.shape)"
   ]
  },
  {
   "cell_type": "code",
   "execution_count": 36,
   "metadata": {},
   "outputs": [],
   "source": [
    "#Number of classes"
   ]
  },
  {
   "cell_type": "code",
   "execution_count": 37,
   "metadata": {},
   "outputs": [
    {
     "name": "stdout",
     "output_type": "stream",
     "text": [
      "number of classes :  10\n"
     ]
    }
   ],
   "source": [
    "k=len(set(y_train))\n",
    "print('number of classes : ',k)"
   ]
  },
  {
   "cell_type": "code",
   "execution_count": 38,
   "metadata": {},
   "outputs": [],
   "source": [
    "i = Input(shape=X_train[0].shape)\n",
    "x = Conv2D(32,(3,3),strides=2,activation='relu')(i)\n",
    "x = Conv2D(64,(3,3),strides=2,activation='relu')(x)\n",
    "x = Conv2D(128,(3,3),strides=2,activation='relu')(x)\n",
    "x = Flatten()(x)\n",
    "x = Dropout(0.2)(x)\n",
    "x = Dense(512,activation='relu')(x)\n",
    "x = Dropout(0.2)(x)\n",
    "x = Dense(k,activation='softmax')(x)\n",
    "\n",
    "model = Model(i,x)"
   ]
  },
  {
   "cell_type": "code",
   "execution_count": 39,
   "metadata": {},
   "outputs": [
    {
     "name": "stdout",
     "output_type": "stream",
     "text": [
      "Model: \"model_1\"\n",
      "_________________________________________________________________\n",
      "Layer (type)                 Output Shape              Param #   \n",
      "=================================================================\n",
      "input_2 (InputLayer)         [(None, 28, 28, 1)]       0         \n",
      "_________________________________________________________________\n",
      "conv2d_3 (Conv2D)            (None, 13, 13, 32)        320       \n",
      "_________________________________________________________________\n",
      "conv2d_4 (Conv2D)            (None, 6, 6, 64)          18496     \n",
      "_________________________________________________________________\n",
      "conv2d_5 (Conv2D)            (None, 2, 2, 128)         73856     \n",
      "_________________________________________________________________\n",
      "flatten_1 (Flatten)          (None, 512)               0         \n",
      "_________________________________________________________________\n",
      "dropout_2 (Dropout)          (None, 512)               0         \n",
      "_________________________________________________________________\n",
      "dense_2 (Dense)              (None, 512)               262656    \n",
      "_________________________________________________________________\n",
      "dropout_3 (Dropout)          (None, 512)               0         \n",
      "_________________________________________________________________\n",
      "dense_3 (Dense)              (None, 10)                5130      \n",
      "=================================================================\n",
      "Total params: 360,458\n",
      "Trainable params: 360,458\n",
      "Non-trainable params: 0\n",
      "_________________________________________________________________\n"
     ]
    }
   ],
   "source": [
    "model.summary()"
   ]
  },
  {
   "cell_type": "code",
   "execution_count": 40,
   "metadata": {},
   "outputs": [],
   "source": [
    "#compile and fitting the model"
   ]
  },
  {
   "cell_type": "code",
   "execution_count": 41,
   "metadata": {},
   "outputs": [
    {
     "name": "stdout",
     "output_type": "stream",
     "text": [
      "Train on 60000 samples, validate on 10000 samples\n",
      "Epoch 1/15\n",
      "60000/60000 [==============================] - 127s 2ms/sample - loss: 0.5200 - accuracy: 0.8074 - val_loss: 0.3957 - val_accuracy: 0.8516\n",
      "Epoch 2/15\n",
      "60000/60000 [==============================] - 112s 2ms/sample - loss: 0.3585 - accuracy: 0.8662 - val_loss: 0.3431 - val_accuracy: 0.8707\n",
      "Epoch 3/15\n",
      "60000/60000 [==============================] - 109s 2ms/sample - loss: 0.3085 - accuracy: 0.8842 - val_loss: 0.3157 - val_accuracy: 0.8840\n",
      "Epoch 4/15\n",
      "60000/60000 [==============================] - 108s 2ms/sample - loss: 0.2764 - accuracy: 0.8954 - val_loss: 0.2937 - val_accuracy: 0.8868\n",
      "Epoch 5/15\n",
      "60000/60000 [==============================] - 111s 2ms/sample - loss: 0.2516 - accuracy: 0.9055 - val_loss: 0.3003 - val_accuracy: 0.8934\n",
      "Epoch 6/15\n",
      "60000/60000 [==============================] - 107s 2ms/sample - loss: 0.2279 - accuracy: 0.9131 - val_loss: 0.3147 - val_accuracy: 0.8903\n",
      "Epoch 7/15\n",
      "60000/60000 [==============================] - 106s 2ms/sample - loss: 0.2089 - accuracy: 0.9205 - val_loss: 0.2886 - val_accuracy: 0.8977\n",
      "Epoch 8/15\n",
      "60000/60000 [==============================] - 106s 2ms/sample - loss: 0.1947 - accuracy: 0.9271 - val_loss: 0.2948 - val_accuracy: 0.8992\n",
      "Epoch 9/15\n",
      "60000/60000 [==============================] - 107s 2ms/sample - loss: 0.1798 - accuracy: 0.9317 - val_loss: 0.2980 - val_accuracy: 0.8977\n",
      "Epoch 10/15\n",
      "60000/60000 [==============================] - 107s 2ms/sample - loss: 0.1676 - accuracy: 0.9353 - val_loss: 0.3354 - val_accuracy: 0.8924\n",
      "Epoch 11/15\n",
      "60000/60000 [==============================] - 107s 2ms/sample - loss: 0.1583 - accuracy: 0.9399 - val_loss: 0.3329 - val_accuracy: 0.8948\n",
      "Epoch 12/15\n",
      "60000/60000 [==============================] - 107s 2ms/sample - loss: 0.1487 - accuracy: 0.9430 - val_loss: 0.3243 - val_accuracy: 0.8991\n",
      "Epoch 13/15\n",
      "60000/60000 [==============================] - 107s 2ms/sample - loss: 0.1402 - accuracy: 0.9459 - val_loss: 0.3539 - val_accuracy: 0.8945\n",
      "Epoch 14/15\n",
      "60000/60000 [==============================] - 107s 2ms/sample - loss: 0.1315 - accuracy: 0.9508 - val_loss: 0.3415 - val_accuracy: 0.8990\n",
      "Epoch 15/15\n",
      "60000/60000 [==============================] - 107s 2ms/sample - loss: 0.1278 - accuracy: 0.9512 - val_loss: 0.3410 - val_accuracy: 0.9007\n"
     ]
    }
   ],
   "source": [
    "model.compile(optimizer='adam',loss='sparse_categorical_crossentropy',metrics=['accuracy'])\n",
    "\n",
    "r = model.fit(X_train,y_train,validation_data=(X_test,y_test),epochs=15)"
   ]
  },
  {
   "cell_type": "code",
   "execution_count": 42,
   "metadata": {},
   "outputs": [
    {
     "data": {
      "image/png": "[encoded data removed]",
      "text/plain": [
       "<Figure size 1008x432 with 2 Axes>"
      ]
     },
     "metadata": {
      "needs_background": "light"
     },
     "output_type": "display_data"
    }
   ],
   "source": [
    "plt.figure(figsize=(14,6))\n",
    "plt.subplot(121)\n",
    "plt.plot(r.history['loss'],label='loss')\n",
    "plt.plot(r.history['val_loss'],label='val_loss')\n",
    "plt.title(\"loss VS val_loss\")\n",
    "plt.legend()\n",
    "\n",
    "plt.subplot(122)\n",
    "plt.plot(r.history['accuracy'],label='accuracy')\n",
    "plt.plot(r.history['val_accuracy'],label='val_accuracy')\n",
    "plt.title(\"accuracy VS val_accuracy\")\n",
    "plt.legend()\n",
    "\n",
    "plt.show();"
   ]
  },
  {
   "cell_type": "code",
   "execution_count": 43,
   "metadata": {},
   "outputs": [],
   "source": [
    "from sklearn.metrics import confusion_matrix\n",
    "import itertools"
   ]
  },
  {
   "cell_type": "code",
   "execution_count": 56,
   "metadata": {},
   "outputs": [
    {
     "name": "stdout",
     "output_type": "stream",
     "text": [
      "Confusion_Matrix, without normalization\n",
      "[[846   0  24  11   3   1 104   0  11   0]\n",
      " [  2 970   2  15   5   0   3   0   3   0]\n",
      " [ 13   1 871   6  46   0  60   0   3   0]\n",
      " [ 22   4  20 889  28   0  32   0   5   0]\n",
      " [  1   1  59  19 829   0  86   0   5   0]\n",
      " [  0   0   0   0   0 973   0  18   1   8]\n",
      " [ 92   0  71  17  72   1 726   0  21   0]\n",
      " [  0   0   0   0   0   9   0 962   0  29]\n",
      " [  1   0   3   3   2   2   3   2 983   1]\n",
      " [  0   0   0   0   0   4   1  37   0 958]]\n"
     ]
    },
    {
     "data": {
      "image/png": "[encoded data removed]",
      "text/plain": [
       "<Figure size 432x288 with 2 Axes>"
      ]
     },
     "metadata": {
      "needs_background": "light"
     },
     "output_type": "display_data"
    }
   ],
   "source": [
    "def plot_confusion_matrix(cm,classes,\n",
    "                         normalize=False,\n",
    "                         title='Confusion_Matrix',\n",
    "                         cmap = plt.cm.Blues):\n",
    "    \"\"\"\n",
    "    This function prints and plots the confusion Matrix.\n",
    "    Normalization can be applied by setting normalized =True\n",
    "    \"\"\"\n",
    "    if normalize:\n",
    "        cm = cm.astype('float')/cm.sum(axis=1)[:,np.newaxis]\n",
    "        print('Normalized Confusion Matrix')\n",
    "    else:\n",
    "        print('Confusion_Matrix, without normalization')\n",
    "    print(cm)\n",
    "    \n",
    "    plt.imshow(cm,interpolation='nearest',cmap=cmap)\n",
    "    plt.title(title)\n",
    "    plt.colorbar()\n",
    "    tick_marks = np.arange(len(classes))\n",
    "    plt.xticks(tick_marks,classes,rotation=45)\n",
    "    plt.yticks(tick_marks,classes)\n",
    "    \n",
    "    fmt = '.2f' if normalize else 'd'\n",
    "    thresh = cm.max()/2.\n",
    "    \n",
    "    for i,j in itertools.product(range(cm.shape[0]),range(cm.shape[1])):\n",
    "        plt.text(j,i,format(cm[i,j],fmt),\n",
    "                horizontalalignment='center',\n",
    "                color='white' if cm[i,j]>thresh else 'black')\n",
    "        \n",
    "    plt.tight_layout()\n",
    "    plt.ylabel('True Label')\n",
    "    plt.xlabel('Predicted Label')\n",
    "    plt.show()\n",
    "    \n",
    "p_test = model.predict(X_test).argmax(axis=1)\n",
    "cm = confusion_matrix(y_test,p_test)\n",
    "plot_confusion_matrix(cm,list(range(10)))"
   ]
  },
  {
   "cell_type": "code",
   "execution_count": 45,
   "metadata": {},
   "outputs": [],
   "source": [
    "#label mapping"
   ]
  },
  {
   "cell_type": "code",
   "execution_count": 46,
   "metadata": {},
   "outputs": [],
   "source": [
    "labels = '''T-shirt/Top\n",
    "Trouser\n",
    "Pullover\n",
    "Dress\n",
    "Coat\n",
    "Sandal\n",
    "Shirt\n",
    "Sneaker\n",
    "Bag\n",
    "Ankle boot'''.split()"
   ]
  },
  {
   "cell_type": "code",
   "execution_count": 47,
   "metadata": {},
   "outputs": [
    {
     "data": {
      "text/plain": [
       "['T-shirt/Top',\n",
       " 'Trouser',\n",
       " 'Pullover',\n",
       " 'Dress',\n",
       " 'Coat',\n",
       " 'Sandal',\n",
       " 'Shirt',\n",
       " 'Sneaker',\n",
       " 'Bag',\n",
       " 'Ankle',\n",
       " 'boot']"
      ]
     },
     "execution_count": 47,
     "metadata": {},
     "output_type": "execute_result"
    }
   ],
   "source": [
    "labels"
   ]
  },
  {
   "cell_type": "code",
   "execution_count": 48,
   "metadata": {},
   "outputs": [],
   "source": [
    "#Show Some Misclassified examples"
   ]
  },
  {
   "cell_type": "code",
   "execution_count": 54,
   "metadata": {},
   "outputs": [
    {
     "data": {
      "image/png": "[encoded data removed]",
      "text/plain": [
       "<Figure size 432x288 with 1 Axes>"
      ]
     },
     "metadata": {
      "needs_background": "light"
     },
     "output_type": "display_data"
    }
   ],
   "source": [
    "misclassified_idx = np.where(p_test!=y_test)[0]\n",
    "i=np.random.choice(misclassified_idx)\n",
    "plt.imshow(X_test[i].reshape(28,28),cmap='gray')\n",
    "plt.title('True label: %sPredicted : %s' %(labels[y_test[i]],labels[p_test[i]]));"
   ]
  },
  {
   "cell_type": "code",
   "execution_count": null,
   "metadata": {},
   "outputs": [],
   "source": []
  },
  {
   "cell_type": "code",
   "execution_count": null,
   "metadata": {},
   "outputs": [],
   "source": []
  }
 ],
 "metadata": {
  "kernelspec": {
   "display_name": "Python 3",
   "language": "python",
   "name": "python3"
  },
  "language_info": {
   "codemirror_mode": {
    "name": "ipython",
    "version": 3
   },
   "file_extension": ".py",
   "mimetype": "text/x-python",
   "name": "python",
   "nbconvert_exporter": "python",
   "pygments_lexer": "ipython3",
   "version": "3.7.4"
  },
  "toc": {
   "base_numbering": 1,
   "nav_menu": {},
   "number_sections": true,
   "sideBar": true,
   "skip_h1_title": false,
   "title_cell": "Table of Contents",
   "title_sidebar": "Contents",
   "toc_cell": false,
   "toc_position": {},
   "toc_section_display": true,
   "toc_window_display": false
  },
  "varInspector": {
   "cols": {
    "lenName": 16,
    "lenType": 16,
    "lenVar": 40
   },
   "kernels_config": {
    "python": {
     "delete_cmd_postfix": "",
     "delete_cmd_prefix": "del ",
     "library": "var_list.py",
     "varRefreshCmd": "print(var_dic_list())"
    },
    "r": {
     "delete_cmd_postfix": ") ",
     "delete_cmd_prefix": "rm(",
     "library": "var_list.r",
     "varRefreshCmd": "cat(var_dic_list()) "
    }
   },
   "types_to_exclude": [
    "module",
    "function",
    "builtin_function_or_method",
    "instance",
    "_Feature"
   ],
   "window_display": false
  }
 },
 "nbformat": 4,
 "nbformat_minor": 2
}
